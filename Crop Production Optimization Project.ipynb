{
 "cells": [
  {
   "cell_type": "code",
   "execution_count": 1,
   "id": "28a6c5c7-fc43-43bb-8cd2-23b97a2bbcf2",
   "metadata": {},
   "outputs": [],
   "source": [
    "import pandas as pd\n",
    "import numpy as np\n",
    "import matplotlib.pyplot as plt\n",
    "import seaborn as sns\n",
    "from ipywidgets import interact"
   ]
  },
  {
   "cell_type": "code",
   "execution_count": 2,
   "id": "f3e867d7-51ec-4b52-af9a-159f3ef37e53",
   "metadata": {},
   "outputs": [],
   "source": [
    "data=pd.read_csv('Crop_recommendation.csv')"
   ]
  },
  {
   "cell_type": "markdown",
   "id": "ec34f985-64b4-4fb2-b6ba-e8a02f018efb",
   "metadata": {},
   "source": [
    "# Data representation"
   ]
  },
  {
   "cell_type": "code",
   "execution_count": 3,
   "id": "b90c4c78-a330-49ee-9df7-c8831cd22a98",
   "metadata": {},
   "outputs": [
    {
     "data": {
      "text/html": [
       "<div>\n",
       "<style scoped>\n",
       "    .dataframe tbody tr th:only-of-type {\n",
       "        vertical-align: middle;\n",
       "    }\n",
       "\n",
       "    .dataframe tbody tr th {\n",
       "        vertical-align: top;\n",
       "    }\n",
       "\n",
       "    .dataframe thead th {\n",
       "        text-align: right;\n",
       "    }\n",
       "</style>\n",
       "<table border=\"1\" class=\"dataframe\">\n",
       "  <thead>\n",
       "    <tr style=\"text-align: right;\">\n",
       "      <th></th>\n",
       "      <th>N</th>\n",
       "      <th>P</th>\n",
       "      <th>K</th>\n",
       "      <th>temperature</th>\n",
       "      <th>humidity</th>\n",
       "      <th>ph</th>\n",
       "      <th>rainfall</th>\n",
       "      <th>label</th>\n",
       "    </tr>\n",
       "  </thead>\n",
       "  <tbody>\n",
       "    <tr>\n",
       "      <th>0</th>\n",
       "      <td>90</td>\n",
       "      <td>42</td>\n",
       "      <td>43</td>\n",
       "      <td>20.879744</td>\n",
       "      <td>82.002744</td>\n",
       "      <td>6.502985</td>\n",
       "      <td>202.935536</td>\n",
       "      <td>rice</td>\n",
       "    </tr>\n",
       "    <tr>\n",
       "      <th>1</th>\n",
       "      <td>85</td>\n",
       "      <td>58</td>\n",
       "      <td>41</td>\n",
       "      <td>21.770462</td>\n",
       "      <td>80.319644</td>\n",
       "      <td>7.038096</td>\n",
       "      <td>226.655537</td>\n",
       "      <td>rice</td>\n",
       "    </tr>\n",
       "    <tr>\n",
       "      <th>2</th>\n",
       "      <td>60</td>\n",
       "      <td>55</td>\n",
       "      <td>44</td>\n",
       "      <td>23.004459</td>\n",
       "      <td>82.320763</td>\n",
       "      <td>7.840207</td>\n",
       "      <td>263.964248</td>\n",
       "      <td>rice</td>\n",
       "    </tr>\n",
       "    <tr>\n",
       "      <th>3</th>\n",
       "      <td>74</td>\n",
       "      <td>35</td>\n",
       "      <td>40</td>\n",
       "      <td>26.491096</td>\n",
       "      <td>80.158363</td>\n",
       "      <td>6.980401</td>\n",
       "      <td>242.864034</td>\n",
       "      <td>rice</td>\n",
       "    </tr>\n",
       "    <tr>\n",
       "      <th>4</th>\n",
       "      <td>78</td>\n",
       "      <td>42</td>\n",
       "      <td>42</td>\n",
       "      <td>20.130175</td>\n",
       "      <td>81.604873</td>\n",
       "      <td>7.628473</td>\n",
       "      <td>262.717340</td>\n",
       "      <td>rice</td>\n",
       "    </tr>\n",
       "    <tr>\n",
       "      <th>...</th>\n",
       "      <td>...</td>\n",
       "      <td>...</td>\n",
       "      <td>...</td>\n",
       "      <td>...</td>\n",
       "      <td>...</td>\n",
       "      <td>...</td>\n",
       "      <td>...</td>\n",
       "      <td>...</td>\n",
       "    </tr>\n",
       "    <tr>\n",
       "      <th>2195</th>\n",
       "      <td>107</td>\n",
       "      <td>34</td>\n",
       "      <td>32</td>\n",
       "      <td>26.774637</td>\n",
       "      <td>66.413269</td>\n",
       "      <td>6.780064</td>\n",
       "      <td>177.774507</td>\n",
       "      <td>coffee</td>\n",
       "    </tr>\n",
       "    <tr>\n",
       "      <th>2196</th>\n",
       "      <td>99</td>\n",
       "      <td>15</td>\n",
       "      <td>27</td>\n",
       "      <td>27.417112</td>\n",
       "      <td>56.636362</td>\n",
       "      <td>6.086922</td>\n",
       "      <td>127.924610</td>\n",
       "      <td>coffee</td>\n",
       "    </tr>\n",
       "    <tr>\n",
       "      <th>2197</th>\n",
       "      <td>118</td>\n",
       "      <td>33</td>\n",
       "      <td>30</td>\n",
       "      <td>24.131797</td>\n",
       "      <td>67.225123</td>\n",
       "      <td>6.362608</td>\n",
       "      <td>173.322839</td>\n",
       "      <td>coffee</td>\n",
       "    </tr>\n",
       "    <tr>\n",
       "      <th>2198</th>\n",
       "      <td>117</td>\n",
       "      <td>32</td>\n",
       "      <td>34</td>\n",
       "      <td>26.272418</td>\n",
       "      <td>52.127394</td>\n",
       "      <td>6.758793</td>\n",
       "      <td>127.175293</td>\n",
       "      <td>coffee</td>\n",
       "    </tr>\n",
       "    <tr>\n",
       "      <th>2199</th>\n",
       "      <td>104</td>\n",
       "      <td>18</td>\n",
       "      <td>30</td>\n",
       "      <td>23.603016</td>\n",
       "      <td>60.396475</td>\n",
       "      <td>6.779833</td>\n",
       "      <td>140.937041</td>\n",
       "      <td>coffee</td>\n",
       "    </tr>\n",
       "  </tbody>\n",
       "</table>\n",
       "<p>2200 rows × 8 columns</p>\n",
       "</div>"
      ],
      "text/plain": [
       "        N   P   K  temperature   humidity        ph    rainfall   label\n",
       "0      90  42  43    20.879744  82.002744  6.502985  202.935536    rice\n",
       "1      85  58  41    21.770462  80.319644  7.038096  226.655537    rice\n",
       "2      60  55  44    23.004459  82.320763  7.840207  263.964248    rice\n",
       "3      74  35  40    26.491096  80.158363  6.980401  242.864034    rice\n",
       "4      78  42  42    20.130175  81.604873  7.628473  262.717340    rice\n",
       "...   ...  ..  ..          ...        ...       ...         ...     ...\n",
       "2195  107  34  32    26.774637  66.413269  6.780064  177.774507  coffee\n",
       "2196   99  15  27    27.417112  56.636362  6.086922  127.924610  coffee\n",
       "2197  118  33  30    24.131797  67.225123  6.362608  173.322839  coffee\n",
       "2198  117  32  34    26.272418  52.127394  6.758793  127.175293  coffee\n",
       "2199  104  18  30    23.603016  60.396475  6.779833  140.937041  coffee\n",
       "\n",
       "[2200 rows x 8 columns]"
      ]
     },
     "execution_count": 3,
     "metadata": {},
     "output_type": "execute_result"
    }
   ],
   "source": [
    "data"
   ]
  },
  {
   "cell_type": "code",
   "execution_count": 4,
   "id": "1dbc53d6-d170-44e1-bb4f-9e98f628d4f0",
   "metadata": {},
   "outputs": [
    {
     "data": {
      "text/plain": [
       "(2200, 8)"
      ]
     },
     "execution_count": 4,
     "metadata": {},
     "output_type": "execute_result"
    }
   ],
   "source": [
    "data.shape"
   ]
  },
  {
   "cell_type": "markdown",
   "id": "22750920-4350-4a44-a825-22f1845066e2",
   "metadata": {},
   "source": [
    "### Checking whether it contains null entry or not"
   ]
  },
  {
   "cell_type": "code",
   "execution_count": 5,
   "id": "9278b22b-c944-49ea-a7aa-e8b5bbf45466",
   "metadata": {},
   "outputs": [
    {
     "data": {
      "text/plain": [
       "N              0\n",
       "P              0\n",
       "K              0\n",
       "temperature    0\n",
       "humidity       0\n",
       "ph             0\n",
       "rainfall       0\n",
       "label          0\n",
       "dtype: int64"
      ]
     },
     "execution_count": 5,
     "metadata": {},
     "output_type": "execute_result"
    }
   ],
   "source": [
    "data.isnull().sum()"
   ]
  },
  {
   "cell_type": "markdown",
   "id": "1b18d18c-d696-478e-ae07-38dbfc0bc898",
   "metadata": {},
   "source": [
    "### Number of unique crops we are having"
   ]
  },
  {
   "cell_type": "code",
   "execution_count": 6,
   "id": "ae0e1eab-b261-45b6-acda-bcaaee8d7697",
   "metadata": {},
   "outputs": [
    {
     "data": {
      "text/plain": [
       "rice           100\n",
       "maize          100\n",
       "jute           100\n",
       "cotton         100\n",
       "coconut        100\n",
       "papaya         100\n",
       "orange         100\n",
       "apple          100\n",
       "muskmelon      100\n",
       "watermelon     100\n",
       "grapes         100\n",
       "mango          100\n",
       "banana         100\n",
       "pomegranate    100\n",
       "lentil         100\n",
       "blackgram      100\n",
       "mungbean       100\n",
       "mothbeans      100\n",
       "pigeonpeas     100\n",
       "kidneybeans    100\n",
       "chickpea       100\n",
       "coffee         100\n",
       "Name: label, dtype: int64"
      ]
     },
     "execution_count": 6,
     "metadata": {},
     "output_type": "execute_result"
    }
   ],
   "source": [
    "data['label'].value_counts()"
   ]
  },
  {
   "cell_type": "markdown",
   "id": "25bb9a8d-b2af-4190-9c7e-03aff0e1e5f4",
   "metadata": {},
   "source": [
    "## Requirements for Soil"
   ]
  },
  {
   "cell_type": "code",
   "execution_count": 7,
   "id": "6fca95a6-2d12-4a91-8a12-97f9a7c4e06a",
   "metadata": {},
   "outputs": [
    {
     "name": "stdout",
     "output_type": "stream",
     "text": [
      "Average ratio of Nitrogen in the soil : 50.55\n",
      "Average ratio of Phosphorous in the soil : 53.36\n",
      "Average ratio of Potassium in the soil : 48.15\n",
      "Average Temperature in Celsius : 25.62\n",
      "Average Relative Humidity in % : 71.48\n",
      "Average ph value of the soil : 6.47\n",
      "Average Rainfall in mm : 103.46\n"
     ]
    }
   ],
   "source": [
    "print(\"Average ratio of Nitrogen in the soil : {:.2f}\".format(data['N'].mean()))\n",
    "print(\"Average ratio of Phosphorous in the soil : {:.2f}\".format(data['P'].mean()))\n",
    "print(\"Average ratio of Potassium in the soil : {:.2f}\".format(data['K'].mean()))\n",
    "print(\"Average Temperature in Celsius : {:.2f}\".format(data['temperature'].mean()))\n",
    "print(\"Average Relative Humidity in % : {:.2f}\".format(data['humidity'].mean()))\n",
    "print(\"Average ph value of the soil : {:.2f}\".format(data['ph'].mean()))\n",
    "print(\"Average Rainfall in mm : {:.2f}\".format(data['rainfall'].mean()))"
   ]
  },
  {
   "cell_type": "markdown",
   "id": "f04eb6ed-62ed-4203-9fde-840cced53f74",
   "metadata": {},
   "source": [
    "## Statistics of Requirements of Crops"
   ]
  },
  {
   "cell_type": "code",
   "execution_count": 8,
   "id": "64b58d70-82d0-48ea-a751-a745e6e8de98",
   "metadata": {},
   "outputs": [
    {
     "data": {
      "application/vnd.jupyter.widget-view+json": {
       "model_id": "1b786779fce24e938abed1fe7a45792a",
       "version_major": 2,
       "version_minor": 0
      },
      "text/plain": [
       "interactive(children=(Dropdown(description='crops', options=('rice', 'maize', 'chickpea', 'kidneybeans', 'pige…"
      ]
     },
     "metadata": {},
     "output_type": "display_data"
    }
   ],
   "source": [
    "@interact\n",
    "def showdetails(crops = list(data['label'].unique())):\n",
    "    x = data[data['label']==crops]\n",
    "    print(\"---------------------------------------\")\n",
    "    print(\"Statistics for Nitrogen\")\n",
    "    print(\"Minimum Nitrogen requirement :\",x['N'].min())\n",
    "    print(\"Maxmimum Nitrogen requirement :\",x['N'].max())\n",
    "    print(\"Average Nitrogen requirement :\",x['N'].mean())\n",
    "    \n",
    "    print(\"---------------------------------------\")\n",
    "    print(\"Statistics for Phosphorous\")\n",
    "    print(\"Minimum phosphorous requirement :\",x['K'].min())\n",
    "    print(\"Maxmimum phosphorous requirement :\",x['K'].max())\n",
    "    print(\"Average phosphorous requirement :\",x['K'].mean())\n",
    "    \n",
    "    print(\"---------------------------------------\")\n",
    "    print(\"Statistics for Potassium\")\n",
    "    print(\"Minimum potassium requirement :\",x['K'].min())\n",
    "    print(\"Maxmimum potassium requirement :\",x['K'].max())\n",
    "    print(\"Average potassium requirement :\",x['K'].mean())\n",
    "    \n",
    "    print(\"---------------------------------------\")\n",
    "    print(\"Statistics for Temperature\")\n",
    "    print(\"Minimum Temperature requirement : {:.2f} \".format(x['temperature'].min()))\n",
    "    print(\"Maxmimum Temperature requirement : {:.2f}\".format(x['temperature'].max()))\n",
    "    print(\"Average Temperature requirement : {:.2f}\".format(x['temperature'].mean()))\n",
    "    \n",
    "    print(\"---------------------------------------\")\n",
    "    print(\"Statistics for Humidity\")\n",
    "    print(\"Minimum Humidity requirement : {:.2f} \".format(x['humidity'].min()))\n",
    "    print(\"Maxmimum Humidity requirement : {:.2f}\".format(x['humidity'].max()))\n",
    "    print(\"Average Humidity requirement : {:.2f}\".format(x['humidity'].mean()))\n",
    "    \n",
    "    print(\"---------------------------------------\")\n",
    "    print(\"Statistics for ph\")\n",
    "    print(\"Minimum ph requirement : {:.2f} \".format(x['ph'].min()))\n",
    "    print(\"Maxmimum ph requirement : {:.2f}\".format(x['ph'].max()))\n",
    "    print(\"Average ph requirement : {:.2f}\".format(x['ph'].mean()))\n",
    "    \n",
    "    print(\"---------------------------------------\")\n",
    "    print(\"Statistics for Rainfall\")\n",
    "    print(\"Minimum Rainfall requirement : {:.2f} \".format(x['rainfall'].min()))\n",
    "    print(\"Maxmimum Rainfall requirement : {:.2f}\".format(x['rainfall'].max()))\n",
    "    print(\"Average Rainfall requirement : {:.2f}\".format(x['rainfall'].mean()))\n",
    "    \n",
    "    \n",
    "    \n",
    "    "
   ]
  },
  {
   "cell_type": "markdown",
   "id": "1bf264fd-557c-4b89-90b6-1b47e5c277f2",
   "metadata": {},
   "source": [
    "## Compairing the average requirements of crops with each other"
   ]
  },
  {
   "cell_type": "code",
   "execution_count": 9,
   "id": "d49caa97-fe98-468d-ad0b-dec5f9548cff",
   "metadata": {},
   "outputs": [
    {
     "data": {
      "application/vnd.jupyter.widget-view+json": {
       "model_id": "d301e310cf74422a8e0f0199f540f6fb",
       "version_major": 2,
       "version_minor": 0
      },
      "text/plain": [
       "interactive(children=(Dropdown(description='requirements', options=('N', 'P', 'K', 'temperature', 'ph', 'humid…"
      ]
     },
     "metadata": {},
     "output_type": "display_data"
    }
   ],
   "source": [
    "@interact\n",
    "def compare(requirements=['N','P','K','temperature','ph','humidity','rainfall']):\n",
    "    \n",
    "    print(\"Here is the comparisions of\",requirements,\"for each crops\")\n",
    "    print(\"--------------------------------------------------\")\n",
    "    \n",
    "    print(\"rice : {:.2f}\".format(data[data['label']=='rice'][requirements].mean()))\n",
    "    print(\"black grams : {:.2f}\".format(data[data['label']=='blackgram'][requirements].mean()))\n",
    "    print(\"Banana : {:.2f}\".format(data[data['label']=='banana'][requirements].mean()))\n",
    "    print(\"Jute : {:.2f}\".format(data[data['label']=='jute'][requirements].mean()))\n",
    "    print(\"Coconut : {:.2f}\".format(data[data['label']=='coconut'][requirements].mean()))\n",
    "    print(\"apple : {:.2f}\".format(data[data['label']=='apple'][requirements].mean()))\n",
    "    print(\"papaya : {:.2f}\".format(data[data['label']=='papaya'][requirements].mean()))\n",
    "    print(\"muskmelon : {:.2f}\".format(data[data['label']=='muskmelon'][requirements].mean()))\n",
    "    print(\"grapes : {:.2f}\".format(data[data['label']=='grapes'][requirements].mean()))\n",
    "    print(\"watermelon : {:.2f}\".format(data[data['label']=='watermelon'][requirements].mean()))\n",
    "    print(\"kidneybeans : {:.2f}\".format(data[data['label']=='kidneybeans'][requirements].mean()))\n",
    "    print(\"mungbean : {:.2f}\".format(data[data['label']=='mungbean'][requirements].mean()))\n",
    "    print(\"orange : {:.2f}\".format(data[data['label']=='orange'][requirements].mean()))\n",
    "    print(\"chickpea : {:.2f}\".format(data[data['label']=='chickpea'][requirements].mean()))\n",
    "    print(\"lentil : {:.2f}\".format(data[data['label']=='lentil'][requirements].mean()))\n",
    "    print(\"cotton : {:.2f}\".format(data[data['label']=='cotton'][requirements].mean()))\n",
    "    print(\"maize : {:.2f}\".format(data[data['label']=='maize'][requirements].mean()))\n",
    "    print(\"mothbeans : {:.2f}\".format(data[data['label']=='mothbeans'][requirements].mean()))\n",
    "    print(\"pigeonpeas : {:.2f}\".format(data[data['label']=='pigeonpeas'][requirements].mean()))\n",
    "    print(\"mango : {:.2f}\".format(data[data['label']=='mango'][requirements].mean()))\n",
    "    print(\"pomegranate : {:.2f}\".format(data[data['label']=='pomegranate'][requirements].mean()))\n",
    "    print(\"coffee : {:.2f}\".format(data[data['label']=='coffee'][requirements].mean()))"
   ]
  },
  {
   "cell_type": "markdown",
   "id": "a7ce4761-4f3a-409c-a155-39813cf362b3",
   "metadata": {},
   "source": [
    "## Crops which require more than average of requirement"
   ]
  },
  {
   "cell_type": "code",
   "execution_count": 10,
   "id": "fbeef119-d910-434d-86ce-5800da9d76e3",
   "metadata": {},
   "outputs": [
    {
     "data": {
      "application/vnd.jupyter.widget-view+json": {
       "model_id": "a0f4a46f3f5341d48b8bcd4185814845",
       "version_major": 2,
       "version_minor": 0
      },
      "text/plain": [
       "interactive(children=(Dropdown(description='req', options=('N', 'P', 'K', 'temperature', 'ph', 'humidity', 'ra…"
      ]
     },
     "metadata": {},
     "output_type": "display_data"
    }
   ],
   "source": [
    "@interact\n",
    "def moreavg(req = ['N','P','K','temperature','ph','humidity','rainfall']):\n",
    "    print(\"crops which require greater than average\",req,\"\\n\")\n",
    "    \n",
    "    print(\"----------------------------------------------------\")\n",
    "    print(data[data[req]>data[req].mean()]['label'].unique())\n",
    "    \n",
    "    print(\"crops which require less than average\",req,\"\\n\")\n",
    "    \n",
    "    print(\"----------------------------------------------------\")\n",
    "    print(data[data[req]<=data[req].mean()]['label'].unique())\n",
    "    "
   ]
  },
  {
   "cell_type": "markdown",
   "id": "3b7ee6c5-d8af-4032-a8ab-b9f3343ebf17",
   "metadata": {},
   "source": [
    "## Distribution for agriculture condition"
   ]
  },
  {
   "cell_type": "code",
   "execution_count": 11,
   "id": "eeeaa7eb-f796-4b32-af3e-efb9dd1bf57c",
   "metadata": {},
   "outputs": [
    {
     "name": "stderr",
     "output_type": "stream",
     "text": [
      "C:\\Users\\Jai Yaduvanshi\\AppData\\Local\\Temp\\ipykernel_18556\\553311743.py:2: UserWarning: \n",
      "\n",
      "`distplot` is a deprecated function and will be removed in seaborn v0.14.0.\n",
      "\n",
      "Please adapt your code to use either `displot` (a figure-level function with\n",
      "similar flexibility) or `histplot` (an axes-level function for histograms).\n",
      "\n",
      "For a guide to updating your code to use the new functions, please see\n",
      "https://gist.github.com/mwaskom/de44147ed2974457ad6372750bbe5751\n",
      "\n",
      "  sns.distplot(data['N'],color='darkblue')\n",
      "C:\\Users\\Jai Yaduvanshi\\AppData\\Local\\Temp\\ipykernel_18556\\553311743.py:7: UserWarning: \n",
      "\n",
      "`distplot` is a deprecated function and will be removed in seaborn v0.14.0.\n",
      "\n",
      "Please adapt your code to use either `displot` (a figure-level function with\n",
      "similar flexibility) or `histplot` (an axes-level function for histograms).\n",
      "\n",
      "For a guide to updating your code to use the new functions, please see\n",
      "https://gist.github.com/mwaskom/de44147ed2974457ad6372750bbe5751\n",
      "\n",
      "  sns.distplot(data['P'],color='darkblue')\n",
      "C:\\Users\\Jai Yaduvanshi\\AppData\\Local\\Temp\\ipykernel_18556\\553311743.py:12: UserWarning: \n",
      "\n",
      "`distplot` is a deprecated function and will be removed in seaborn v0.14.0.\n",
      "\n",
      "Please adapt your code to use either `displot` (a figure-level function with\n",
      "similar flexibility) or `histplot` (an axes-level function for histograms).\n",
      "\n",
      "For a guide to updating your code to use the new functions, please see\n",
      "https://gist.github.com/mwaskom/de44147ed2974457ad6372750bbe5751\n",
      "\n",
      "  sns.distplot(data['K'],color='darkblue')\n",
      "C:\\Users\\Jai Yaduvanshi\\AppData\\Local\\Temp\\ipykernel_18556\\553311743.py:17: UserWarning: \n",
      "\n",
      "`distplot` is a deprecated function and will be removed in seaborn v0.14.0.\n",
      "\n",
      "Please adapt your code to use either `displot` (a figure-level function with\n",
      "similar flexibility) or `histplot` (an axes-level function for histograms).\n",
      "\n",
      "For a guide to updating your code to use the new functions, please see\n",
      "https://gist.github.com/mwaskom/de44147ed2974457ad6372750bbe5751\n",
      "\n",
      "  sns.distplot(data['rainfall'],color='darkblue')\n",
      "C:\\Users\\Jai Yaduvanshi\\AppData\\Local\\Temp\\ipykernel_18556\\553311743.py:22: UserWarning: \n",
      "\n",
      "`distplot` is a deprecated function and will be removed in seaborn v0.14.0.\n",
      "\n",
      "Please adapt your code to use either `displot` (a figure-level function with\n",
      "similar flexibility) or `histplot` (an axes-level function for histograms).\n",
      "\n",
      "For a guide to updating your code to use the new functions, please see\n",
      "https://gist.github.com/mwaskom/de44147ed2974457ad6372750bbe5751\n",
      "\n",
      "  sns.distplot(data['humidity'],color='darkblue')\n",
      "C:\\Users\\Jai Yaduvanshi\\AppData\\Local\\Temp\\ipykernel_18556\\553311743.py:27: UserWarning: \n",
      "\n",
      "`distplot` is a deprecated function and will be removed in seaborn v0.14.0.\n",
      "\n",
      "Please adapt your code to use either `displot` (a figure-level function with\n",
      "similar flexibility) or `histplot` (an axes-level function for histograms).\n",
      "\n",
      "For a guide to updating your code to use the new functions, please see\n",
      "https://gist.github.com/mwaskom/de44147ed2974457ad6372750bbe5751\n",
      "\n",
      "  sns.distplot(data['ph'],color='darkblue')\n",
      "C:\\Users\\Jai Yaduvanshi\\AppData\\Local\\Temp\\ipykernel_18556\\553311743.py:32: UserWarning: \n",
      "\n",
      "`distplot` is a deprecated function and will be removed in seaborn v0.14.0.\n",
      "\n",
      "Please adapt your code to use either `displot` (a figure-level function with\n",
      "similar flexibility) or `histplot` (an axes-level function for histograms).\n",
      "\n",
      "For a guide to updating your code to use the new functions, please see\n",
      "https://gist.github.com/mwaskom/de44147ed2974457ad6372750bbe5751\n",
      "\n",
      "  sns.distplot(data['temperature'],color='darkblue')\n"
     ]
    },
    {
     "data": {
      "image/png": "[encoded data removed]",
      "text/plain": [
       "<Figure size 432x288 with 7 Axes>"
      ]
     },
     "metadata": {
      "needs_background": "light"
     },
     "output_type": "display_data"
    }
   ],
   "source": [
    "plt.subplot(2,4,1)\n",
    "sns.distplot(data['N'],color='darkblue')\n",
    "plt.xlabel('Ratio of Nitrogen', fontsize=12)\n",
    "plt.grid()\n",
    "\n",
    "plt.subplot(2,4,2)\n",
    "sns.distplot(data['P'],color='darkblue')\n",
    "plt.xlabel('Ratio of Phosphorous', fontsize=12)\n",
    "plt.grid()\n",
    "\n",
    "plt.subplot(2,4,3)\n",
    "sns.distplot(data['K'],color='darkblue')\n",
    "plt.xlabel('Ratio of Potassium', fontsize=12)\n",
    "plt.grid()\n",
    "\n",
    "plt.subplot(2,4,4)\n",
    "sns.distplot(data['rainfall'],color='darkblue')\n",
    "plt.xlabel('Ratio of Rainfall', fontsize=12)\n",
    "plt.grid()\n",
    "\n",
    "plt.subplot(2,4,5)\n",
    "sns.distplot(data['humidity'],color='darkblue')\n",
    "plt.xlabel('Ratio of Humidity', fontsize=12)\n",
    "plt.grid()\n",
    "\n",
    "plt.subplot(2,4,6)\n",
    "sns.distplot(data['ph'],color='darkblue')\n",
    "plt.xlabel('Ratio of ph', fontsize=12)\n",
    "plt.grid()\n",
    "\n",
    "plt.subplot(2,4,7)\n",
    "sns.distplot(data['temperature'],color='darkblue')\n",
    "plt.xlabel('Ratio of temperature', fontsize=12)\n",
    "plt.grid()\n",
    "\n",
    "plt.show()"
   ]
  },
  {
   "cell_type": "code",
   "execution_count": 12,
   "id": "e7f1f8d7-351d-4e30-9f2b-37a6f9e63116",
   "metadata": {},
   "outputs": [
    {
     "name": "stdout",
     "output_type": "stream",
     "text": [
      "crops which require very high ratio of Nitrogen Content in soil : ['cotton']\n",
      "crops which require very high ratio of Phosphorous Content in soil : ['grapes' 'apple']\n",
      "crops which require very high ratio of Potassium Content in soil : ['grapes' 'apple']\n",
      "Crops which require very high rainfall : ['rice' 'papaya' 'coconut']\n",
      "Crops which requires very low temperature : ['grapes']\n",
      "Crops which require very high temperature : ['grapes' 'papaya']\n",
      "Crops which require very low humidity : ['chickpea' 'kidneybeans']\n",
      "Crops which require low ph : ['mothbeans']\n",
      "Crops which require very high ph : ['mothbeans']\n"
     ]
    }
   ],
   "source": [
    "## some patterns we get\n",
    "\n",
    "print(\"crops which require very high ratio of Nitrogen Content in soil :\",data[data['N']>120]['label'].unique())\n",
    "print(\"crops which require very high ratio of Phosphorous Content in soil :\",data[data['P']>100]['label'].unique())\n",
    "print(\"crops which require very high ratio of Potassium Content in soil :\",data[data['K']>200]['label'].unique())\n",
    "print(\"Crops which require very high rainfall :\",data[data['rainfall']>200]['label'].unique())\n",
    "print(\"Crops which requires very low temperature :\",data[data['temperature']<10]['label'].unique())\n",
    "print(\"Crops which require very high temperature :\",data[data['temperature']>40]['label'].unique())\n",
    "print(\"Crops which require very low humidity :\",data[data['humidity']<20]['label'].unique())\n",
    "print(\"Crops which require low ph :\",data[data['ph']<4]['label'].unique())\n",
    "print(\"Crops which require very high ph :\",data[data['ph']>9]['label'].unique())"
   ]
  },
  {
   "cell_type": "markdown",
   "id": "f8d4bb1d-3f7c-42e7-a88d-1e9968fdb129",
   "metadata": {},
   "source": [
    "## Let's Find which crops can only be grown in Summer Season, Winter Season and Rainy Season"
   ]
  },
  {
   "cell_type": "code",
   "execution_count": 13,
   "id": "240251de-eff6-4110-aac3-5f2fc8fe0eea",
   "metadata": {},
   "outputs": [
    {
     "name": "stdout",
     "output_type": "stream",
     "text": [
      "Summer Crops\n",
      "['pigeonpeas' 'mothbeans' 'blackgram' 'mango' 'grapes' 'orange' 'papaya']\n",
      "------------------------------------------\n",
      "Winter Crops\n",
      "['maize' 'pigeonpeas' 'lentil' 'pomegranate' 'grapes' 'orange']\n",
      "------------------------------------------\n",
      "Rainy Crops\n",
      "['rice' 'papaya' 'coconut']\n"
     ]
    }
   ],
   "source": [
    "print(\"Summer Crops\")\n",
    "print(data[(data['temperature']>30) & (data['humidity']>50)]['label'].unique())\n",
    "\n",
    "print(\"------------------------------------------\")\n",
    "print(\"Winter Crops\")\n",
    "print(data[(data['temperature']<20) & (data['humidity']>30)]['label'].unique())\n",
    "\n",
    "print(\"------------------------------------------\")\n",
    "print(\"Rainy Crops\")\n",
    "print(data[(data['rainfall']>200) & (data['humidity']>30)]['label'].unique())"
   ]
  },
  {
   "cell_type": "markdown",
   "id": "e699e15c-c3be-493b-8ec7-689703c8a5dc",
   "metadata": {},
   "source": [
    "## Clustering Analysis"
   ]
  },
  {
   "cell_type": "code",
   "execution_count": 14,
   "id": "fbf51f64-9258-401a-af46-cb5a10b23af6",
   "metadata": {},
   "outputs": [
    {
     "name": "stdout",
     "output_type": "stream",
     "text": [
      "(2200, 7)\n"
     ]
    }
   ],
   "source": [
    "from sklearn.cluster import KMeans\n",
    "\n",
    "# removing the labels column\n",
    "x=data.drop(['label'],axis=1)\n",
    "\n",
    "# selecting all the values of the data\n",
    "x=x.values\n",
    "\n",
    "# checking the shape of x\n",
    "print(x.shape)"
   ]
  },
  {
   "cell_type": "code",
   "execution_count": 15,
   "id": "c8b64566-b7df-4b3c-919a-1fdf6c76e328",
   "metadata": {},
   "outputs": [
    {
     "data": {
      "image/png": "[encoded data removed]",
      "text/plain": [
       "<Figure size 432x288 with 1 Axes>"
      ]
     },
     "metadata": {
      "needs_background": "light"
     },
     "output_type": "display_data"
    }
   ],
   "source": [
    "# First decide the optimum number of clusters within the dataset\n",
    "\n",
    "\n",
    "\n",
    "inertia=[]\n",
    "for i in range(1,11):\n",
    "    kmeans=KMeans(n_clusters=i, init= 'k-means++',max_iter=300, n_init=10,random_state=0)\n",
    "    kmeans.fit(x)\n",
    "    inertia.append(kmeans.inertia_)\n",
    "    \n",
    "    \n",
    "    \n",
    "# now plot the result\n",
    "plt.plot(range(1,11),inertia)\n",
    "plt.title('The Elbow Method', fontsize=20)\n",
    "plt.xlabel('No. of Clusters')\n",
    "plt.ylabel('inertia')\n",
    "plt.show()"
   ]
  },
  {
   "cell_type": "code",
   "execution_count": null,
   "id": "06b5bc27-1412-473a-8f10-4586bc68eee4",
   "metadata": {},
   "outputs": [],
   "source": [
    "# Now let's implement the K-Means algorithm to perform Clustering analysis\n",
    "kmeans=KMeans(n_clusters= 4, init= 'k-means++',max_iter=300,n_init=10,random_state=0)\n",
    "y_means= kmeans=kmeans.fit_predict(x)\n",
    "\n",
    "# lets find out the results\n",
    "\n",
    "a=data['label']\n",
    "y_means=pd.DataFrame(y_means)\n",
    "z=pd.concat([y_means ,a],axis=1)\n",
    "z=z.rename(columns={0:'cluster'})\n",
    "\n",
    "#lets check the cluster of each crops\n",
    "\n",
    "print(\"Crops in first cluster:\", z[z['cluster']==0]['label'].unique())\n",
    "print(\"-------------------------------------------------------\")\n",
    "\n",
    "print(\"Crops in second cluster:\", z[z['cluster']==1]['label'].unique())\n",
    "print(\"-------------------------------------------------------\")\n",
    "\n",
    "print(\"Crops in third cluster:\", z[z['cluster']==2]['label'].unique())\n",
    "print(\"-------------------------------------------------------\")\n",
    "\n",
    "print(\"Crops in forth cluster:\", z[z['cluster']==3]['label'].unique())\n",
    "print(\"-------------------------------------------------------\")\n"
   ]
  },
  {
   "cell_type": "code",
   "execution_count": 37,
   "id": "13f1d6f0-4830-4c65-a8be-1b3f9a4fcaee",
   "metadata": {},
   "outputs": [
    {
     "name": "stdout",
     "output_type": "stream",
     "text": [
      "shape of x: (2200, 7)\n",
      "shape of y: (2200,)\n"
     ]
    }
   ],
   "source": [
    "# lets split the dataset for predictive modelling\n",
    "\n",
    "y=data['label']\n",
    "x=data.drop(['label'],axis=1)\n",
    "\n",
    "print(\"shape of x:\",x.shape)\n",
    "print(\"shape of y:\",y.shape)"
   ]
  },
  {
   "cell_type": "code",
   "execution_count": 38,
   "id": "8976f9a6-d19f-498d-8cdb-f37f9d49a9e5",
   "metadata": {},
   "outputs": [
    {
     "name": "stdout",
     "output_type": "stream",
     "text": [
      "The shape of x train: (1760, 7)\n",
      "The shape of x test: (440, 7)\n",
      "The shape of y test: (1760,)\n",
      "The shape of y test: (440,)\n"
     ]
    }
   ],
   "source": [
    "# lets create Training and Testing Sets for Validation of Results\n",
    "from sklearn.model_selection import train_test_split\n",
    "\n",
    "x_train, x_test, y_train,y_test=train_test_split(x,y,test_size=0.2,random_state=0)\n",
    "\n",
    "\n",
    "print(\"The shape of x train:\",x_train.shape)\n",
    "print(\"The shape of x test:\",x_test.shape)\n",
    "print(\"The shape of y test:\",y_train.shape)\n",
    "print(\"The shape of y test:\",y_test.shape)\n",
    "\n"
   ]
  },
  {
   "cell_type": "code",
   "execution_count": 42,
   "id": "d71917a7-d539-4619-8bc3-d9d41c2599b0",
   "metadata": {},
   "outputs": [
    {
     "name": "stderr",
     "output_type": "stream",
     "text": [
      "C:\\Users\\Jai Yaduvanshi\\AppData\\Local\\Programs\\Python\\Python39\\lib\\site-packages\\sklearn\\linear_model\\_logistic.py:444: ConvergenceWarning: lbfgs failed to converge (status=1):\n",
      "STOP: TOTAL NO. of ITERATIONS REACHED LIMIT.\n",
      "\n",
      "Increase the number of iterations (max_iter) or scale the data as shown in:\n",
      "    https://scikit-learn.org/stable/modules/preprocessing.html\n",
      "Please also refer to the documentation for alternative solver options:\n",
      "    https://scikit-learn.org/stable/modules/linear_model.html#logistic-regression\n",
      "  n_iter_i = _check_optimize_result(\n"
     ]
    }
   ],
   "source": [
    "# lets create a predictive model\n",
    "\n",
    "from sklearn.linear_model import LogisticRegression\n",
    "\n",
    "model=LogisticRegression()\n",
    "model.fit(x_train,y_train)\n",
    "y_pred=model.predict(x_test)"
   ]
  },
  {
   "cell_type": "code",
   "execution_count": 43,
   "id": "1f712fc4-ea0b-41ac-b324-2056a37a37ff",
   "metadata": {},
   "outputs": [
    {
     "data": {
      "image/png": "[encoded data removed]",
      "text/plain": [
       "<Figure size 432x288 with 2 Axes>"
      ]
     },
     "metadata": {
      "needs_background": "light"
     },
     "output_type": "display_data"
    }
   ],
   "source": [
    "# lets evaluate the Model Performance\n",
    "from sklearn.metrics import confusion_matrix\n",
    "\n",
    "# lets print the Confusion matrix first\n",
    "cm=confusion_matrix(y_test,y_pred)\n",
    "sns.heatmap(cm,annot=True,cmap='Wistia')\n",
    "plt.title('Confusion Matrix for Logistic Regression', fontsize=15)\n",
    "plt.show()"
   ]
  },
  {
   "cell_type": "code",
   "execution_count": 48,
   "id": "91462e0f-2ab1-44c4-8ce3-fb639cc71fbe",
   "metadata": {},
   "outputs": [
    {
     "name": "stdout",
     "output_type": "stream",
     "text": [
      "The Suggested crop for given climatic condition is : ['rice']\n"
     ]
    },
    {
     "name": "stderr",
     "output_type": "stream",
     "text": [
      "C:\\Users\\Jai Yaduvanshi\\AppData\\Local\\Programs\\Python\\Python39\\lib\\site-packages\\sklearn\\base.py:450: UserWarning: X does not have valid feature names, but LogisticRegression was fitted with feature names\n",
      "  warnings.warn(\n"
     ]
    }
   ],
   "source": [
    "prediction=model.predict((np.array([[90,40,40,20,80,7,200]])))\n",
    "print(\"The Suggested crop for given climatic condition is :\",prediction)"
   ]
  },
  {
   "cell_type": "code",
   "execution_count": null,
   "id": "d0735850-3936-46fc-9b11-583ede7a0314",
   "metadata": {},
   "outputs": [],
   "source": []
  },
  {
   "cell_type": "code",
   "execution_count": null,
   "id": "f74977c8-2453-4d9c-bd46-74260883b857",
   "metadata": {},
   "outputs": [],
   "source": []
  },
  {
   "cell_type": "code",
   "execution_count": null,
   "id": "7759ff7e-a0aa-4fb9-8f21-e0c840fa4d20",
   "metadata": {},
   "outputs": [],
   "source": [
    "\n"
   ]
  }
 ],
 "metadata": {
  "kernelspec": {
   "display_name": "Python 3 (ipykernel)",
   "language": "python",
   "name": "python3"
  },
  "language_info": {
   "codemirror_mode": {
    "name": "ipython",
    "version": 3
   },
   "file_extension": ".py",
   "mimetype": "text/x-python",
   "name": "python",
   "nbconvert_exporter": "python",
   "pygments_lexer": "ipython3",
   "version": "3.9.7"
  }
 },
 "nbformat": 4,
 "nbformat_minor": 5
}
